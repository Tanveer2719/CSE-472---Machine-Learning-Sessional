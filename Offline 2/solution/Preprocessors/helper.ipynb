{
 "cells": [
  {
   "cell_type": "code",
   "execution_count": null,
   "metadata": {},
   "outputs": [],
   "source": [
    "# imports\n",
    "import matplotlib.pyplot as plt\n",
    "import seaborn as sns\n",
    "import pandas as pd\n",
    "from sklearn.preprocessing import MinMaxScaler, StandardScaler, LabelEncoder\n",
    "from sklearn.model_selection import train_test_split\n",
    "import metrics_class as met_cls\n",
    "import importlib\n",
    "\n",
    "\n",
    "importlib.reload(met_cls)\n",
    "\n",
    "\n"
   ]
  },
  {
   "cell_type": "markdown",
   "metadata": {},
   "source": [
    "### heatmap\n"
   ]
  },
  {
   "cell_type": "code",
   "execution_count": null,
   "metadata": {},
   "outputs": [],
   "source": [
    "def show_heatmap(correlations, name=''):\n",
    "    name_='Correlations with '+name\n",
    "    title_ = 'Features Corrleation with '+__name__\n",
    "    correlations_df = pd.DataFrame(correlations, columns=[name_])\n",
    "    plt.figure(figsize=(10,10))\n",
    "    sns.heatmap(correlations_df,annot=True, cmap='coolwarm', cbar=True, linewidths=0.5,)\n",
    "    plt.title(title_)\n",
    "    plt.show()"
   ]
  },
  {
   "cell_type": "markdown",
   "metadata": {},
   "source": [
    "### Metrics Calculation"
   ]
  },
  {
   "cell_type": "code",
   "execution_count": null,
   "metadata": {},
   "outputs": [],
   "source": [
    "def lr_metric_calculator(models, X_test, y_test):\n",
    "    \n",
    "    lr_metrics = met_cls.Metrics()\n",
    "\n",
    "    # predict the models against the 'X_test' and update the performance metrics\n",
    "    for model in models:\n",
    "        y_pred = model.custom_predict(X_test)\n",
    "        # y_pred = model.predict(X_test)\n",
    "        lr_metrics.update_the_metrics(y_test, y_pred)\n",
    "\n",
    "    return lr_metrics\n",
    "\n",
    "    \n"
   ]
  },
  {
   "cell_type": "code",
   "execution_count": null,
   "metadata": {},
   "outputs": [],
   "source": [
    "def stacking_metric_calculator(model, X_test, y_test):\n",
    "    \n",
    "    st_metrics = met_cls.Metrics()\n",
    "\n",
    "    # predict the model against the 'X_test' and update the performance metrics\n",
    "    \n",
    "    y_pred = model.custom_predict(X_test)\n",
    "    st_metrics.update_the_metrics(y_test, y_pred)\n",
    "\n",
    "    return st_metrics"
   ]
  },
  {
   "cell_type": "code",
   "execution_count": 3,
   "metadata": {},
   "outputs": [],
   "source": [
    "def voting_metric_calculator(model, X_test, y_test):\n",
    "    \n",
    "    vt_metrics = met_cls.Metrics()\n",
    "\n",
    "    # predict the model against the 'X_test' and update the performance metrics\n",
    "    \n",
    "    y_pred = model.custom_prediction(X_test)\n",
    "    vt_metrics.update_the_metrics(y_test, y_pred)\n",
    "\n",
    "    return vt_metrics"
   ]
  },
  {
   "cell_type": "markdown",
   "metadata": {},
   "source": [
    "### Violin plot\n"
   ]
  },
  {
   "cell_type": "code",
   "execution_count": null,
   "metadata": {},
   "outputs": [],
   "source": [
    "\n",
    "def plot_violin(lr_metrics_data):\n",
    "    # Plotting the violin plots for each metric\n",
    "    plt.figure(figsize=(15, 10))\n",
    "\n",
    "    for i, (metric_name, values) in enumerate(lr_metrics_data.metrics.items(), 1):\n",
    "        plt.subplot(3, 3, i)\n",
    "        sns.violinplot(data=[values], inner=\"point\")\n",
    "        plt.title(f'Violin plot of {metric_name}')\n",
    "        plt.ylabel('Score')\n",
    "\n",
    "    plt.tight_layout()\n",
    "    plt.show()"
   ]
  }
 ],
 "metadata": {
  "kernelspec": {
   "display_name": "Solution",
   "language": "python",
   "name": "python3"
  },
  "language_info": {
   "codemirror_mode": {
    "name": "ipython",
    "version": 3
   },
   "file_extension": ".py",
   "mimetype": "text/x-python",
   "name": "python",
   "nbconvert_exporter": "python",
   "pygments_lexer": "ipython3",
   "version": "3.12.3"
  }
 },
 "nbformat": 4,
 "nbformat_minor": 2
}
