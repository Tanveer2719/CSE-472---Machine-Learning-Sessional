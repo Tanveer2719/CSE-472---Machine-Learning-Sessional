{
 "cells": [
  {
   "cell_type": "markdown",
   "metadata": {},
   "source": [
    "### Libraries"
   ]
  },
  {
   "cell_type": "code",
   "execution_count": null,
   "metadata": {},
   "outputs": [],
   "source": [
    "import pandas as pd\n",
    "import numpy as np\n",
    "from sklearn.preprocessing import MinMaxScaler\n",
    "import pywt\n"
   ]
  },
  {
   "cell_type": "code",
   "execution_count": null,
   "metadata": {},
   "outputs": [],
   "source": [
    "df = pd.read_csv('weatherdata.csv')\n",
    "features = df.drop('Rainfall(mm)', axis=1)\n",
    "target = df['Rainfall(mm)']\n",
    "\n",
    "features.head(10)"
   ]
  },
  {
   "cell_type": "markdown",
   "metadata": {},
   "source": [
    "## Preprocessing"
   ]
  },
  {
   "cell_type": "markdown",
   "metadata": {},
   "source": [
    "### convert the Months and Year"
   ]
  },
  {
   "cell_type": "code",
   "execution_count": null,
   "metadata": {},
   "outputs": [],
   "source": [
    "\n",
    "# convert the month to cylindrical\n",
    "features['Month_sin'] = np.sin(2 * np.pi * features['Month'] / 12)\n",
    "features['Month_cos'] = np.cos(2 * np.pi * features['Month'] / 12)\n",
    "\n",
    "# drop the month column\n",
    "features.drop(['Month'], axis=1, inplace=True)\n",
    "\n",
    "# handle the year \n",
    "current_year = features['Year'].max()\n",
    "features['Year_weighted'] = np.exp((features['Year'] - current_year) / 10)\n",
    "\n",
    "features.drop(['Year'], axis=1, inplace=True)\n",
    "\n",
    "features.head(20)\n"
   ]
  },
  {
   "cell_type": "markdown",
   "metadata": {},
   "source": [
    "### Scaling"
   ]
  },
  {
   "cell_type": "code",
   "execution_count": null,
   "metadata": {},
   "outputs": [],
   "source": [
    "# scale the max Temp, min Temp, and rainfall humidity, wind speed, cloud coverage and sunshine\n",
    "\n",
    "scaled_columns = ['Max Temp', 'Min Temp','Humidity (percent)', 'Wind Speed (m/s)', 'Cloud Coverage (Octs)','Humidity (percent)', 'Wind Speed (m/s)', 'Cloud Coverage (Octs)','Sunshine (Hours)']\n",
    "minimax = MinMaxScaler()\n",
    "features[scaled_columns] = minimax.fit_transform(features[scaled_columns])\n",
    "\n",
    "features.head(10)"
   ]
  },
  {
   "cell_type": "markdown",
   "metadata": {},
   "source": [
    "### Encoding"
   ]
  },
  {
   "cell_type": "code",
   "execution_count": null,
   "metadata": {},
   "outputs": [],
   "source": [
    "# one hot encoding of the stations and make the datatype of the column as int\n",
    "\n",
    "\n",
    "features = pd.get_dummies(features, columns=['Station'], prefix='Station',dtype=int)\n",
    "\n",
    "# Display the first few rows of the updated DataFrame\n",
    "features.head(50)\n"
   ]
  },
  {
   "cell_type": "markdown",
   "metadata": {},
   "source": [
    "### Discrete Wavelet Transform\n"
   ]
  },
  {
   "cell_type": "code",
   "execution_count": null,
   "metadata": {},
   "outputs": [],
   "source": [
    "# Perform 4-level decomposition using 'db4'\n",
    "wavelet = 'db4'\n",
    "level = 4\n",
    "coefficients = pywt.wavedec(target, wavelet, level=level)\n",
    "\n",
    "# Extract approximation (low-frequency) and detail (high-frequency) components\n",
    "approximation = coefficients[0]\n",
    "details = coefficients[1:]\n",
    "\n",
    "# print(\"Approximation coefficients (low-frequency):\\n\", approximation)\n",
    "# for i, detail in enumerate(details, 1):\n",
    "#     print(f\"Detail coefficients at level {i}:\\n\", detail)"
   ]
  },
  {
   "cell_type": "code",
   "execution_count": null,
   "metadata": {},
   "outputs": [],
   "source": [
    "# Reconstruct the signal with both approximation and details\n",
    "reconstructed_data = pywt.waverec([approximation] + details, wavelet='db4')\n",
    "\n",
    "# convert the reconstructed data to a dataframe\n",
    "target = pd.DataFrame(reconstructed_data)\n",
    "target.head(10)\n"
   ]
  }
 ],
 "metadata": {
  "kernelspec": {
   "display_name": "Project_Codes",
   "language": "python",
   "name": "python3"
  },
  "language_info": {
   "codemirror_mode": {
    "name": "ipython",
    "version": 3
   },
   "file_extension": ".py",
   "mimetype": "text/x-python",
   "name": "python",
   "nbconvert_exporter": "python",
   "pygments_lexer": "ipython3",
   "version": "3.10.12"
  }
 },
 "nbformat": 4,
 "nbformat_minor": 2
}
